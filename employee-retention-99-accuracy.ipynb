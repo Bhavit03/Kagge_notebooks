{
 "cells": [
  {
   "cell_type": "code",
   "execution_count": 1,
   "id": "3567900b",
   "metadata": {
    "_cell_guid": "b1076dfc-b9ad-4769-8c92-a6c4dae69d19",
    "_uuid": "8f2839f25d086af736a60e9eeb907d3b93b6e0e5",
    "execution": {
     "iopub.execute_input": "2023-03-28T05:53:04.944002Z",
     "iopub.status.busy": "2023-03-28T05:53:04.943305Z",
     "iopub.status.idle": "2023-03-28T05:53:06.194290Z",
     "shell.execute_reply": "2023-03-28T05:53:06.192915Z"
    },
    "papermill": {
     "duration": 1.267551,
     "end_time": "2023-03-28T05:53:06.197579",
     "exception": false,
     "start_time": "2023-03-28T05:53:04.930028",
     "status": "completed"
    },
    "tags": []
   },
   "outputs": [
    {
     "name": "stdout",
     "output_type": "stream",
     "text": [
      "/kaggle/input/hr-analytics/HR_comma_sep.csv\n"
     ]
    }
   ],
   "source": [
    "# This Python 3 environment comes with many helpful analytics libraries installed\n",
    "# It is defined by the kaggle/python Docker image: https://github.com/kaggle/docker-python\n",
    "# For example, here's several helpful packages to load\n",
    "\n",
    "import numpy as np # linear algebra\n",
    "import pandas as pd # data processing, CSV file I/O (e.g. pd.read_csv)\n",
    "import matplotlib.pyplot as plt\n",
    "import seaborn as sns\n",
    "%matplotlib inline\n",
    "# Input data files are available in the read-only \"../input/\" directory\n",
    "# For example, running this (by clicking run or pressing Shift+Enter) will lis2wt all files under the input directory\n",
    "\n",
    "import os\n",
    "for dirname, _, filenames in os.walk('/kaggle/input'):\n",
    "    for filename in filenames:\n",
    "        print(os.path.join(dirname, filename))\n",
    "\n",
    "# You can write up to 20GB to the current directory (/kaggle/working/) that gets preserved as output when you create a version using \"Save & Run All\" \n",
    "# You can also write temporary files to /kaggle/temp/, but they won't be saved outside of the current session"
   ]
  },
  {
   "cell_type": "code",
   "execution_count": 2,
   "id": "0ebf2bba",
   "metadata": {
    "execution": {
     "iopub.execute_input": "2023-03-28T05:53:06.218032Z",
     "iopub.status.busy": "2023-03-28T05:53:06.216994Z",
     "iopub.status.idle": "2023-03-28T05:53:06.260153Z",
     "shell.execute_reply": "2023-03-28T05:53:06.258980Z"
    },
    "papermill": {
     "duration": 0.056069,
     "end_time": "2023-03-28T05:53:06.262833",
     "exception": false,
     "start_time": "2023-03-28T05:53:06.206764",
     "status": "completed"
    },
    "tags": []
   },
   "outputs": [],
   "source": [
    "df=pd.read_csv('/kaggle/input/hr-analytics/HR_comma_sep.csv')"
   ]
  },
  {
   "cell_type": "code",
   "execution_count": 3,
   "id": "75ea7f8c",
   "metadata": {
    "execution": {
     "iopub.execute_input": "2023-03-28T05:53:06.282442Z",
     "iopub.status.busy": "2023-03-28T05:53:06.281960Z",
     "iopub.status.idle": "2023-03-28T05:53:06.290848Z",
     "shell.execute_reply": "2023-03-28T05:53:06.289644Z"
    },
    "papermill": {
     "duration": 0.02153,
     "end_time": "2023-03-28T05:53:06.293320",
     "exception": false,
     "start_time": "2023-03-28T05:53:06.271790",
     "status": "completed"
    },
    "tags": []
   },
   "outputs": [
    {
     "data": {
      "text/plain": [
       "Index(['satisfaction_level', 'last_evaluation', 'number_project',\n",
       "       'average_montly_hours', 'time_spend_company', 'Work_accident', 'left',\n",
       "       'promotion_last_5years', 'Department', 'salary'],\n",
       "      dtype='object')"
      ]
     },
     "execution_count": 3,
     "metadata": {},
     "output_type": "execute_result"
    }
   ],
   "source": [
    "df.columns"
   ]
  },
  {
   "cell_type": "code",
   "execution_count": 4,
   "id": "ab4a88f5",
   "metadata": {
    "execution": {
     "iopub.execute_input": "2023-03-28T05:53:06.313441Z",
     "iopub.status.busy": "2023-03-28T05:53:06.312956Z",
     "iopub.status.idle": "2023-03-28T05:53:06.343219Z",
     "shell.execute_reply": "2023-03-28T05:53:06.341534Z"
    },
    "papermill": {
     "duration": 0.043855,
     "end_time": "2023-03-28T05:53:06.346213",
     "exception": false,
     "start_time": "2023-03-28T05:53:06.302358",
     "status": "completed"
    },
    "tags": []
   },
   "outputs": [
    {
     "name": "stdout",
     "output_type": "stream",
     "text": [
      "<class 'pandas.core.frame.DataFrame'>\n",
      "RangeIndex: 14999 entries, 0 to 14998\n",
      "Data columns (total 10 columns):\n",
      " #   Column                 Non-Null Count  Dtype  \n",
      "---  ------                 --------------  -----  \n",
      " 0   satisfaction_level     14999 non-null  float64\n",
      " 1   last_evaluation        14999 non-null  float64\n",
      " 2   number_project         14999 non-null  int64  \n",
      " 3   average_montly_hours   14999 non-null  int64  \n",
      " 4   time_spend_company     14999 non-null  int64  \n",
      " 5   Work_accident          14999 non-null  int64  \n",
      " 6   left                   14999 non-null  int64  \n",
      " 7   promotion_last_5years  14999 non-null  int64  \n",
      " 8   Department             14999 non-null  object \n",
      " 9   salary                 14999 non-null  object \n",
      "dtypes: float64(2), int64(6), object(2)\n",
      "memory usage: 1.1+ MB\n"
     ]
    }
   ],
   "source": [
    "df.info()"
   ]
  },
  {
   "cell_type": "code",
   "execution_count": 5,
   "id": "7f71ce92",
   "metadata": {
    "execution": {
     "iopub.execute_input": "2023-03-28T05:53:06.366843Z",
     "iopub.status.busy": "2023-03-28T05:53:06.366074Z",
     "iopub.status.idle": "2023-03-28T05:53:06.377736Z",
     "shell.execute_reply": "2023-03-28T05:53:06.376498Z"
    },
    "papermill": {
     "duration": 0.02455,
     "end_time": "2023-03-28T05:53:06.380090",
     "exception": false,
     "start_time": "2023-03-28T05:53:06.355540",
     "status": "completed"
    },
    "tags": []
   },
   "outputs": [
    {
     "data": {
      "text/plain": [
       "satisfaction_level       0\n",
       "last_evaluation          0\n",
       "number_project           0\n",
       "average_montly_hours     0\n",
       "time_spend_company       0\n",
       "Work_accident            0\n",
       "left                     0\n",
       "promotion_last_5years    0\n",
       "Department               0\n",
       "salary                   0\n",
       "dtype: int64"
      ]
     },
     "execution_count": 5,
     "metadata": {},
     "output_type": "execute_result"
    }
   ],
   "source": [
    "df.isnull().sum()"
   ]
  },
  {
   "cell_type": "code",
   "execution_count": 6,
   "id": "40883ccf",
   "metadata": {
    "execution": {
     "iopub.execute_input": "2023-03-28T05:53:06.400779Z",
     "iopub.status.busy": "2023-03-28T05:53:06.399997Z",
     "iopub.status.idle": "2023-03-28T05:53:06.455048Z",
     "shell.execute_reply": "2023-03-28T05:53:06.454012Z"
    },
    "papermill": {
     "duration": 0.068459,
     "end_time": "2023-03-28T05:53:06.457711",
     "exception": false,
     "start_time": "2023-03-28T05:53:06.389252",
     "status": "completed"
    },
    "tags": []
   },
   "outputs": [
    {
     "data": {
      "text/html": [
       "<div>\n",
       "<style scoped>\n",
       "    .dataframe tbody tr th:only-of-type {\n",
       "        vertical-align: middle;\n",
       "    }\n",
       "\n",
       "    .dataframe tbody tr th {\n",
       "        vertical-align: top;\n",
       "    }\n",
       "\n",
       "    .dataframe thead th {\n",
       "        text-align: right;\n",
       "    }\n",
       "</style>\n",
       "<table border=\"1\" class=\"dataframe\">\n",
       "  <thead>\n",
       "    <tr style=\"text-align: right;\">\n",
       "      <th></th>\n",
       "      <th>satisfaction_level</th>\n",
       "      <th>last_evaluation</th>\n",
       "      <th>number_project</th>\n",
       "      <th>average_montly_hours</th>\n",
       "      <th>time_spend_company</th>\n",
       "      <th>Work_accident</th>\n",
       "      <th>left</th>\n",
       "      <th>promotion_last_5years</th>\n",
       "    </tr>\n",
       "  </thead>\n",
       "  <tbody>\n",
       "    <tr>\n",
       "      <th>count</th>\n",
       "      <td>14999.000000</td>\n",
       "      <td>14999.000000</td>\n",
       "      <td>14999.000000</td>\n",
       "      <td>14999.000000</td>\n",
       "      <td>14999.000000</td>\n",
       "      <td>14999.000000</td>\n",
       "      <td>14999.000000</td>\n",
       "      <td>14999.000000</td>\n",
       "    </tr>\n",
       "    <tr>\n",
       "      <th>mean</th>\n",
       "      <td>0.612834</td>\n",
       "      <td>0.716102</td>\n",
       "      <td>3.803054</td>\n",
       "      <td>201.050337</td>\n",
       "      <td>3.498233</td>\n",
       "      <td>0.144610</td>\n",
       "      <td>0.238083</td>\n",
       "      <td>0.021268</td>\n",
       "    </tr>\n",
       "    <tr>\n",
       "      <th>std</th>\n",
       "      <td>0.248631</td>\n",
       "      <td>0.171169</td>\n",
       "      <td>1.232592</td>\n",
       "      <td>49.943099</td>\n",
       "      <td>1.460136</td>\n",
       "      <td>0.351719</td>\n",
       "      <td>0.425924</td>\n",
       "      <td>0.144281</td>\n",
       "    </tr>\n",
       "    <tr>\n",
       "      <th>min</th>\n",
       "      <td>0.090000</td>\n",
       "      <td>0.360000</td>\n",
       "      <td>2.000000</td>\n",
       "      <td>96.000000</td>\n",
       "      <td>2.000000</td>\n",
       "      <td>0.000000</td>\n",
       "      <td>0.000000</td>\n",
       "      <td>0.000000</td>\n",
       "    </tr>\n",
       "    <tr>\n",
       "      <th>25%</th>\n",
       "      <td>0.440000</td>\n",
       "      <td>0.560000</td>\n",
       "      <td>3.000000</td>\n",
       "      <td>156.000000</td>\n",
       "      <td>3.000000</td>\n",
       "      <td>0.000000</td>\n",
       "      <td>0.000000</td>\n",
       "      <td>0.000000</td>\n",
       "    </tr>\n",
       "    <tr>\n",
       "      <th>50%</th>\n",
       "      <td>0.640000</td>\n",
       "      <td>0.720000</td>\n",
       "      <td>4.000000</td>\n",
       "      <td>200.000000</td>\n",
       "      <td>3.000000</td>\n",
       "      <td>0.000000</td>\n",
       "      <td>0.000000</td>\n",
       "      <td>0.000000</td>\n",
       "    </tr>\n",
       "    <tr>\n",
       "      <th>75%</th>\n",
       "      <td>0.820000</td>\n",
       "      <td>0.870000</td>\n",
       "      <td>5.000000</td>\n",
       "      <td>245.000000</td>\n",
       "      <td>4.000000</td>\n",
       "      <td>0.000000</td>\n",
       "      <td>0.000000</td>\n",
       "      <td>0.000000</td>\n",
       "    </tr>\n",
       "    <tr>\n",
       "      <th>max</th>\n",
       "      <td>1.000000</td>\n",
       "      <td>1.000000</td>\n",
       "      <td>7.000000</td>\n",
       "      <td>310.000000</td>\n",
       "      <td>10.000000</td>\n",
       "      <td>1.000000</td>\n",
       "      <td>1.000000</td>\n",
       "      <td>1.000000</td>\n",
       "    </tr>\n",
       "  </tbody>\n",
       "</table>\n",
       "</div>"
      ],
      "text/plain": [
       "       satisfaction_level  last_evaluation  number_project  \\\n",
       "count        14999.000000     14999.000000    14999.000000   \n",
       "mean             0.612834         0.716102        3.803054   \n",
       "std              0.248631         0.171169        1.232592   \n",
       "min              0.090000         0.360000        2.000000   \n",
       "25%              0.440000         0.560000        3.000000   \n",
       "50%              0.640000         0.720000        4.000000   \n",
       "75%              0.820000         0.870000        5.000000   \n",
       "max              1.000000         1.000000        7.000000   \n",
       "\n",
       "       average_montly_hours  time_spend_company  Work_accident          left  \\\n",
       "count          14999.000000        14999.000000   14999.000000  14999.000000   \n",
       "mean             201.050337            3.498233       0.144610      0.238083   \n",
       "std               49.943099            1.460136       0.351719      0.425924   \n",
       "min               96.000000            2.000000       0.000000      0.000000   \n",
       "25%              156.000000            3.000000       0.000000      0.000000   \n",
       "50%              200.000000            3.000000       0.000000      0.000000   \n",
       "75%              245.000000            4.000000       0.000000      0.000000   \n",
       "max              310.000000           10.000000       1.000000      1.000000   \n",
       "\n",
       "       promotion_last_5years  \n",
       "count           14999.000000  \n",
       "mean                0.021268  \n",
       "std                 0.144281  \n",
       "min                 0.000000  \n",
       "25%                 0.000000  \n",
       "50%                 0.000000  \n",
       "75%                 0.000000  \n",
       "max                 1.000000  "
      ]
     },
     "execution_count": 6,
     "metadata": {},
     "output_type": "execute_result"
    }
   ],
   "source": [
    "df.describe()"
   ]
  },
  {
   "cell_type": "code",
   "execution_count": 7,
   "id": "f0c4086b",
   "metadata": {
    "execution": {
     "iopub.execute_input": "2023-03-28T05:53:06.478763Z",
     "iopub.status.busy": "2023-03-28T05:53:06.478327Z",
     "iopub.status.idle": "2023-03-28T05:53:06.495628Z",
     "shell.execute_reply": "2023-03-28T05:53:06.494118Z"
    },
    "papermill": {
     "duration": 0.031053,
     "end_time": "2023-03-28T05:53:06.498263",
     "exception": false,
     "start_time": "2023-03-28T05:53:06.467210",
     "status": "completed"
    },
    "tags": []
   },
   "outputs": [
    {
     "data": {
      "text/html": [
       "<div>\n",
       "<style scoped>\n",
       "    .dataframe tbody tr th:only-of-type {\n",
       "        vertical-align: middle;\n",
       "    }\n",
       "\n",
       "    .dataframe tbody tr th {\n",
       "        vertical-align: top;\n",
       "    }\n",
       "\n",
       "    .dataframe thead th {\n",
       "        text-align: right;\n",
       "    }\n",
       "</style>\n",
       "<table border=\"1\" class=\"dataframe\">\n",
       "  <thead>\n",
       "    <tr style=\"text-align: right;\">\n",
       "      <th></th>\n",
       "      <th>satisfaction_level</th>\n",
       "      <th>last_evaluation</th>\n",
       "      <th>number_project</th>\n",
       "      <th>average_montly_hours</th>\n",
       "      <th>time_spend_company</th>\n",
       "      <th>Work_accident</th>\n",
       "      <th>left</th>\n",
       "      <th>promotion_last_5years</th>\n",
       "      <th>Department</th>\n",
       "      <th>salary</th>\n",
       "    </tr>\n",
       "  </thead>\n",
       "  <tbody>\n",
       "    <tr>\n",
       "      <th>0</th>\n",
       "      <td>0.38</td>\n",
       "      <td>0.53</td>\n",
       "      <td>2</td>\n",
       "      <td>157</td>\n",
       "      <td>3</td>\n",
       "      <td>0</td>\n",
       "      <td>1</td>\n",
       "      <td>0</td>\n",
       "      <td>sales</td>\n",
       "      <td>low</td>\n",
       "    </tr>\n",
       "    <tr>\n",
       "      <th>1</th>\n",
       "      <td>0.80</td>\n",
       "      <td>0.86</td>\n",
       "      <td>5</td>\n",
       "      <td>262</td>\n",
       "      <td>6</td>\n",
       "      <td>0</td>\n",
       "      <td>1</td>\n",
       "      <td>0</td>\n",
       "      <td>sales</td>\n",
       "      <td>medium</td>\n",
       "    </tr>\n",
       "    <tr>\n",
       "      <th>2</th>\n",
       "      <td>0.11</td>\n",
       "      <td>0.88</td>\n",
       "      <td>7</td>\n",
       "      <td>272</td>\n",
       "      <td>4</td>\n",
       "      <td>0</td>\n",
       "      <td>1</td>\n",
       "      <td>0</td>\n",
       "      <td>sales</td>\n",
       "      <td>medium</td>\n",
       "    </tr>\n",
       "    <tr>\n",
       "      <th>3</th>\n",
       "      <td>0.72</td>\n",
       "      <td>0.87</td>\n",
       "      <td>5</td>\n",
       "      <td>223</td>\n",
       "      <td>5</td>\n",
       "      <td>0</td>\n",
       "      <td>1</td>\n",
       "      <td>0</td>\n",
       "      <td>sales</td>\n",
       "      <td>low</td>\n",
       "    </tr>\n",
       "    <tr>\n",
       "      <th>4</th>\n",
       "      <td>0.37</td>\n",
       "      <td>0.52</td>\n",
       "      <td>2</td>\n",
       "      <td>159</td>\n",
       "      <td>3</td>\n",
       "      <td>0</td>\n",
       "      <td>1</td>\n",
       "      <td>0</td>\n",
       "      <td>sales</td>\n",
       "      <td>low</td>\n",
       "    </tr>\n",
       "    <tr>\n",
       "      <th>5</th>\n",
       "      <td>0.41</td>\n",
       "      <td>0.50</td>\n",
       "      <td>2</td>\n",
       "      <td>153</td>\n",
       "      <td>3</td>\n",
       "      <td>0</td>\n",
       "      <td>1</td>\n",
       "      <td>0</td>\n",
       "      <td>sales</td>\n",
       "      <td>low</td>\n",
       "    </tr>\n",
       "    <tr>\n",
       "      <th>6</th>\n",
       "      <td>0.10</td>\n",
       "      <td>0.77</td>\n",
       "      <td>6</td>\n",
       "      <td>247</td>\n",
       "      <td>4</td>\n",
       "      <td>0</td>\n",
       "      <td>1</td>\n",
       "      <td>0</td>\n",
       "      <td>sales</td>\n",
       "      <td>low</td>\n",
       "    </tr>\n",
       "    <tr>\n",
       "      <th>7</th>\n",
       "      <td>0.92</td>\n",
       "      <td>0.85</td>\n",
       "      <td>5</td>\n",
       "      <td>259</td>\n",
       "      <td>5</td>\n",
       "      <td>0</td>\n",
       "      <td>1</td>\n",
       "      <td>0</td>\n",
       "      <td>sales</td>\n",
       "      <td>low</td>\n",
       "    </tr>\n",
       "    <tr>\n",
       "      <th>8</th>\n",
       "      <td>0.89</td>\n",
       "      <td>1.00</td>\n",
       "      <td>5</td>\n",
       "      <td>224</td>\n",
       "      <td>5</td>\n",
       "      <td>0</td>\n",
       "      <td>1</td>\n",
       "      <td>0</td>\n",
       "      <td>sales</td>\n",
       "      <td>low</td>\n",
       "    </tr>\n",
       "    <tr>\n",
       "      <th>9</th>\n",
       "      <td>0.42</td>\n",
       "      <td>0.53</td>\n",
       "      <td>2</td>\n",
       "      <td>142</td>\n",
       "      <td>3</td>\n",
       "      <td>0</td>\n",
       "      <td>1</td>\n",
       "      <td>0</td>\n",
       "      <td>sales</td>\n",
       "      <td>low</td>\n",
       "    </tr>\n",
       "  </tbody>\n",
       "</table>\n",
       "</div>"
      ],
      "text/plain": [
       "   satisfaction_level  last_evaluation  number_project  average_montly_hours  \\\n",
       "0                0.38             0.53               2                   157   \n",
       "1                0.80             0.86               5                   262   \n",
       "2                0.11             0.88               7                   272   \n",
       "3                0.72             0.87               5                   223   \n",
       "4                0.37             0.52               2                   159   \n",
       "5                0.41             0.50               2                   153   \n",
       "6                0.10             0.77               6                   247   \n",
       "7                0.92             0.85               5                   259   \n",
       "8                0.89             1.00               5                   224   \n",
       "9                0.42             0.53               2                   142   \n",
       "\n",
       "   time_spend_company  Work_accident  left  promotion_last_5years Department  \\\n",
       "0                   3              0     1                      0      sales   \n",
       "1                   6              0     1                      0      sales   \n",
       "2                   4              0     1                      0      sales   \n",
       "3                   5              0     1                      0      sales   \n",
       "4                   3              0     1                      0      sales   \n",
       "5                   3              0     1                      0      sales   \n",
       "6                   4              0     1                      0      sales   \n",
       "7                   5              0     1                      0      sales   \n",
       "8                   5              0     1                      0      sales   \n",
       "9                   3              0     1                      0      sales   \n",
       "\n",
       "   salary  \n",
       "0     low  \n",
       "1  medium  \n",
       "2  medium  \n",
       "3     low  \n",
       "4     low  \n",
       "5     low  \n",
       "6     low  \n",
       "7     low  \n",
       "8     low  \n",
       "9     low  "
      ]
     },
     "execution_count": 7,
     "metadata": {},
     "output_type": "execute_result"
    }
   ],
   "source": [
    "df.head(10)"
   ]
  },
  {
   "cell_type": "code",
   "execution_count": 8,
   "id": "c7e560f1",
   "metadata": {
    "execution": {
     "iopub.execute_input": "2023-03-28T05:53:06.521794Z",
     "iopub.status.busy": "2023-03-28T05:53:06.520474Z",
     "iopub.status.idle": "2023-03-28T05:53:06.529889Z",
     "shell.execute_reply": "2023-03-28T05:53:06.528621Z"
    },
    "papermill": {
     "duration": 0.02316,
     "end_time": "2023-03-28T05:53:06.532332",
     "exception": false,
     "start_time": "2023-03-28T05:53:06.509172",
     "status": "completed"
    },
    "tags": []
   },
   "outputs": [
    {
     "data": {
      "text/plain": [
       "array(['sales', 'accounting', 'hr', 'technical', 'support', 'management',\n",
       "       'IT', 'product_mng', 'marketing', 'RandD'], dtype=object)"
      ]
     },
     "execution_count": 8,
     "metadata": {},
     "output_type": "execute_result"
    }
   ],
   "source": [
    "df['Department'].unique()"
   ]
  },
  {
   "cell_type": "code",
   "execution_count": 9,
   "id": "45b75687",
   "metadata": {
    "execution": {
     "iopub.execute_input": "2023-03-28T05:53:06.554604Z",
     "iopub.status.busy": "2023-03-28T05:53:06.553761Z",
     "iopub.status.idle": "2023-03-28T05:53:06.562648Z",
     "shell.execute_reply": "2023-03-28T05:53:06.561440Z"
    },
    "papermill": {
     "duration": 0.022858,
     "end_time": "2023-03-28T05:53:06.565338",
     "exception": false,
     "start_time": "2023-03-28T05:53:06.542480",
     "status": "completed"
    },
    "tags": []
   },
   "outputs": [
    {
     "data": {
      "text/plain": [
       "array(['low', 'medium', 'high'], dtype=object)"
      ]
     },
     "execution_count": 9,
     "metadata": {},
     "output_type": "execute_result"
    }
   ],
   "source": [
    "df['salary'].unique()"
   ]
  },
  {
   "cell_type": "code",
   "execution_count": 10,
   "id": "d6aae67f",
   "metadata": {
    "execution": {
     "iopub.execute_input": "2023-03-28T05:53:06.587584Z",
     "iopub.status.busy": "2023-03-28T05:53:06.586685Z",
     "iopub.status.idle": "2023-03-28T05:53:06.925250Z",
     "shell.execute_reply": "2023-03-28T05:53:06.923831Z"
    },
    "papermill": {
     "duration": 0.352765,
     "end_time": "2023-03-28T05:53:06.928010",
     "exception": false,
     "start_time": "2023-03-28T05:53:06.575245",
     "status": "completed"
    },
    "tags": []
   },
   "outputs": [
    {
     "data": {
      "text/plain": [
       "<AxesSubplot:xlabel='Department', ylabel='Count'>"
      ]
     },
     "execution_count": 10,
     "metadata": {},
     "output_type": "execute_result"
    },
    {
     "data": {
      "image/png": "[encoded data removed]",
      "text/plain": [
       "<Figure size 640x480 with 1 Axes>"
      ]
     },
     "metadata": {},
     "output_type": "display_data"
    }
   ],
   "source": [
    "sns.histplot(data=df,x='Department')"
   ]
  },
  {
   "cell_type": "code",
   "execution_count": 11,
   "id": "7831da98",
   "metadata": {
    "execution": {
     "iopub.execute_input": "2023-03-28T05:53:06.951433Z",
     "iopub.status.busy": "2023-03-28T05:53:06.950966Z",
     "iopub.status.idle": "2023-03-28T05:53:07.182897Z",
     "shell.execute_reply": "2023-03-28T05:53:07.181631Z"
    },
    "papermill": {
     "duration": 0.246488,
     "end_time": "2023-03-28T05:53:07.185461",
     "exception": false,
     "start_time": "2023-03-28T05:53:06.938973",
     "status": "completed"
    },
    "tags": []
   },
   "outputs": [
    {
     "data": {
      "text/plain": [
       "<AxesSubplot:xlabel='salary', ylabel='count'>"
      ]
     },
     "execution_count": 11,
     "metadata": {},
     "output_type": "execute_result"
    },
    {
     "data": {
      "image/png": "[encoded data removed]",
      "text/plain": [
       "<Figure size 640x480 with 1 Axes>"
      ]
     },
     "metadata": {},
     "output_type": "display_data"
    }
   ],
   "source": [
    "sns.countplot(df,x=df['salary'])"
   ]
  },
  {
   "cell_type": "code",
   "execution_count": 12,
   "id": "85b15b3f",
   "metadata": {
    "execution": {
     "iopub.execute_input": "2023-03-28T05:53:07.210564Z",
     "iopub.status.busy": "2023-03-28T05:53:07.209232Z",
     "iopub.status.idle": "2023-03-28T05:53:07.396204Z",
     "shell.execute_reply": "2023-03-28T05:53:07.395141Z"
    },
    "papermill": {
     "duration": 0.202374,
     "end_time": "2023-03-28T05:53:07.399100",
     "exception": false,
     "start_time": "2023-03-28T05:53:07.196726",
     "status": "completed"
    },
    "tags": []
   },
   "outputs": [],
   "source": [
    "import sklearn\n",
    "from sklearn.preprocessing import OneHotEncoder\n",
    "ohe=OneHotEncoder()\n",
    "transformed_sal_ohe=ohe.fit_transform(df[['salary']])"
   ]
  },
  {
   "cell_type": "code",
   "execution_count": 13,
   "id": "aa55e960",
   "metadata": {
    "execution": {
     "iopub.execute_input": "2023-03-28T05:53:07.423629Z",
     "iopub.status.busy": "2023-03-28T05:53:07.422695Z",
     "iopub.status.idle": "2023-03-28T05:53:07.431550Z",
     "shell.execute_reply": "2023-03-28T05:53:07.430350Z"
    },
    "papermill": {
     "duration": 0.023819,
     "end_time": "2023-03-28T05:53:07.433957",
     "exception": false,
     "start_time": "2023-03-28T05:53:07.410138",
     "status": "completed"
    },
    "tags": []
   },
   "outputs": [
    {
     "data": {
      "text/plain": [
       "array([[0., 1., 0.],\n",
       "       [0., 0., 1.],\n",
       "       [0., 0., 1.],\n",
       "       ...,\n",
       "       [0., 1., 0.],\n",
       "       [0., 1., 0.],\n",
       "       [0., 1., 0.]])"
      ]
     },
     "execution_count": 13,
     "metadata": {},
     "output_type": "execute_result"
    }
   ],
   "source": [
    "transformed_sal_ohe.toarray()"
   ]
  },
  {
   "cell_type": "code",
   "execution_count": 14,
   "id": "764bdfa0",
   "metadata": {
    "execution": {
     "iopub.execute_input": "2023-03-28T05:53:07.458344Z",
     "iopub.status.busy": "2023-03-28T05:53:07.457376Z",
     "iopub.status.idle": "2023-03-28T05:53:07.464854Z",
     "shell.execute_reply": "2023-03-28T05:53:07.463760Z"
    },
    "papermill": {
     "duration": 0.02245,
     "end_time": "2023-03-28T05:53:07.467520",
     "exception": false,
     "start_time": "2023-03-28T05:53:07.445070",
     "status": "completed"
    },
    "tags": []
   },
   "outputs": [],
   "source": [
    "df[ohe.categories_[0]]=transformed_sal_ohe.toarray()"
   ]
  },
  {
   "cell_type": "code",
   "execution_count": 15,
   "id": "2b578c75",
   "metadata": {
    "execution": {
     "iopub.execute_input": "2023-03-28T05:53:07.492142Z",
     "iopub.status.busy": "2023-03-28T05:53:07.491411Z",
     "iopub.status.idle": "2023-03-28T05:53:07.512846Z",
     "shell.execute_reply": "2023-03-28T05:53:07.511588Z"
    },
    "papermill": {
     "duration": 0.037005,
     "end_time": "2023-03-28T05:53:07.515666",
     "exception": false,
     "start_time": "2023-03-28T05:53:07.478661",
     "status": "completed"
    },
    "tags": []
   },
   "outputs": [
    {
     "data": {
      "text/html": [
       "<div>\n",
       "<style scoped>\n",
       "    .dataframe tbody tr th:only-of-type {\n",
       "        vertical-align: middle;\n",
       "    }\n",
       "\n",
       "    .dataframe tbody tr th {\n",
       "        vertical-align: top;\n",
       "    }\n",
       "\n",
       "    .dataframe thead th {\n",
       "        text-align: right;\n",
       "    }\n",
       "</style>\n",
       "<table border=\"1\" class=\"dataframe\">\n",
       "  <thead>\n",
       "    <tr style=\"text-align: right;\">\n",
       "      <th></th>\n",
       "      <th>satisfaction_level</th>\n",
       "      <th>last_evaluation</th>\n",
       "      <th>number_project</th>\n",
       "      <th>average_montly_hours</th>\n",
       "      <th>time_spend_company</th>\n",
       "      <th>Work_accident</th>\n",
       "      <th>left</th>\n",
       "      <th>promotion_last_5years</th>\n",
       "      <th>Department</th>\n",
       "      <th>high</th>\n",
       "      <th>low</th>\n",
       "      <th>medium</th>\n",
       "    </tr>\n",
       "  </thead>\n",
       "  <tbody>\n",
       "    <tr>\n",
       "      <th>0</th>\n",
       "      <td>0.38</td>\n",
       "      <td>0.53</td>\n",
       "      <td>2</td>\n",
       "      <td>157</td>\n",
       "      <td>3</td>\n",
       "      <td>0</td>\n",
       "      <td>1</td>\n",
       "      <td>0</td>\n",
       "      <td>sales</td>\n",
       "      <td>0.0</td>\n",
       "      <td>1.0</td>\n",
       "      <td>0.0</td>\n",
       "    </tr>\n",
       "    <tr>\n",
       "      <th>1</th>\n",
       "      <td>0.80</td>\n",
       "      <td>0.86</td>\n",
       "      <td>5</td>\n",
       "      <td>262</td>\n",
       "      <td>6</td>\n",
       "      <td>0</td>\n",
       "      <td>1</td>\n",
       "      <td>0</td>\n",
       "      <td>sales</td>\n",
       "      <td>0.0</td>\n",
       "      <td>0.0</td>\n",
       "      <td>1.0</td>\n",
       "    </tr>\n",
       "    <tr>\n",
       "      <th>2</th>\n",
       "      <td>0.11</td>\n",
       "      <td>0.88</td>\n",
       "      <td>7</td>\n",
       "      <td>272</td>\n",
       "      <td>4</td>\n",
       "      <td>0</td>\n",
       "      <td>1</td>\n",
       "      <td>0</td>\n",
       "      <td>sales</td>\n",
       "      <td>0.0</td>\n",
       "      <td>0.0</td>\n",
       "      <td>1.0</td>\n",
       "    </tr>\n",
       "    <tr>\n",
       "      <th>3</th>\n",
       "      <td>0.72</td>\n",
       "      <td>0.87</td>\n",
       "      <td>5</td>\n",
       "      <td>223</td>\n",
       "      <td>5</td>\n",
       "      <td>0</td>\n",
       "      <td>1</td>\n",
       "      <td>0</td>\n",
       "      <td>sales</td>\n",
       "      <td>0.0</td>\n",
       "      <td>1.0</td>\n",
       "      <td>0.0</td>\n",
       "    </tr>\n",
       "    <tr>\n",
       "      <th>4</th>\n",
       "      <td>0.37</td>\n",
       "      <td>0.52</td>\n",
       "      <td>2</td>\n",
       "      <td>159</td>\n",
       "      <td>3</td>\n",
       "      <td>0</td>\n",
       "      <td>1</td>\n",
       "      <td>0</td>\n",
       "      <td>sales</td>\n",
       "      <td>0.0</td>\n",
       "      <td>1.0</td>\n",
       "      <td>0.0</td>\n",
       "    </tr>\n",
       "  </tbody>\n",
       "</table>\n",
       "</div>"
      ],
      "text/plain": [
       "   satisfaction_level  last_evaluation  number_project  average_montly_hours  \\\n",
       "0                0.38             0.53               2                   157   \n",
       "1                0.80             0.86               5                   262   \n",
       "2                0.11             0.88               7                   272   \n",
       "3                0.72             0.87               5                   223   \n",
       "4                0.37             0.52               2                   159   \n",
       "\n",
       "   time_spend_company  Work_accident  left  promotion_last_5years Department  \\\n",
       "0                   3              0     1                      0      sales   \n",
       "1                   6              0     1                      0      sales   \n",
       "2                   4              0     1                      0      sales   \n",
       "3                   5              0     1                      0      sales   \n",
       "4                   3              0     1                      0      sales   \n",
       "\n",
       "   high  low  medium  \n",
       "0   0.0  1.0     0.0  \n",
       "1   0.0  0.0     1.0  \n",
       "2   0.0  0.0     1.0  \n",
       "3   0.0  1.0     0.0  \n",
       "4   0.0  1.0     0.0  "
      ]
     },
     "execution_count": 15,
     "metadata": {},
     "output_type": "execute_result"
    }
   ],
   "source": [
    "df.drop(['salary'],axis=1,inplace=True)\n",
    "df.head()"
   ]
  },
  {
   "cell_type": "code",
   "execution_count": 16,
   "id": "3b6d0cd7",
   "metadata": {
    "execution": {
     "iopub.execute_input": "2023-03-28T05:53:07.540862Z",
     "iopub.status.busy": "2023-03-28T05:53:07.540416Z",
     "iopub.status.idle": "2023-03-28T05:53:07.548523Z",
     "shell.execute_reply": "2023-03-28T05:53:07.547668Z"
    },
    "papermill": {
     "duration": 0.023539,
     "end_time": "2023-03-28T05:53:07.550732",
     "exception": false,
     "start_time": "2023-03-28T05:53:07.527193",
     "status": "completed"
    },
    "tags": []
   },
   "outputs": [
    {
     "data": {
      "text/plain": [
       "array([1, 0])"
      ]
     },
     "execution_count": 16,
     "metadata": {},
     "output_type": "execute_result"
    }
   ],
   "source": [
    "df['left'].unique()"
   ]
  },
  {
   "cell_type": "code",
   "execution_count": 17,
   "id": "b167f17a",
   "metadata": {
    "execution": {
     "iopub.execute_input": "2023-03-28T05:53:07.575438Z",
     "iopub.status.busy": "2023-03-28T05:53:07.574699Z",
     "iopub.status.idle": "2023-03-28T05:53:07.581500Z",
     "shell.execute_reply": "2023-03-28T05:53:07.580140Z"
    },
    "papermill": {
     "duration": 0.021807,
     "end_time": "2023-03-28T05:53:07.583932",
     "exception": false,
     "start_time": "2023-03-28T05:53:07.562125",
     "status": "completed"
    },
    "tags": []
   },
   "outputs": [],
   "source": [
    "Y=df[['left']]"
   ]
  },
  {
   "cell_type": "code",
   "execution_count": 18,
   "id": "6cddf59f",
   "metadata": {
    "execution": {
     "iopub.execute_input": "2023-03-28T05:53:07.608498Z",
     "iopub.status.busy": "2023-03-28T05:53:07.608037Z",
     "iopub.status.idle": "2023-03-28T05:53:07.620396Z",
     "shell.execute_reply": "2023-03-28T05:53:07.619450Z"
    },
    "papermill": {
     "duration": 0.027775,
     "end_time": "2023-03-28T05:53:07.623015",
     "exception": false,
     "start_time": "2023-03-28T05:53:07.595240",
     "status": "completed"
    },
    "tags": []
   },
   "outputs": [],
   "source": [
    "transformed_dept_ohe=ohe.fit_transform(df[['Department']])"
   ]
  },
  {
   "cell_type": "code",
   "execution_count": 19,
   "id": "9dca368c",
   "metadata": {
    "execution": {
     "iopub.execute_input": "2023-03-28T05:53:07.648187Z",
     "iopub.status.busy": "2023-03-28T05:53:07.647444Z",
     "iopub.status.idle": "2023-03-28T05:53:07.700270Z",
     "shell.execute_reply": "2023-03-28T05:53:07.698920Z"
    },
    "papermill": {
     "duration": 0.068728,
     "end_time": "2023-03-28T05:53:07.703214",
     "exception": false,
     "start_time": "2023-03-28T05:53:07.634486",
     "status": "completed"
    },
    "tags": []
   },
   "outputs": [
    {
     "data": {
      "text/html": [
       "<div>\n",
       "<style scoped>\n",
       "    .dataframe tbody tr th:only-of-type {\n",
       "        vertical-align: middle;\n",
       "    }\n",
       "\n",
       "    .dataframe tbody tr th {\n",
       "        vertical-align: top;\n",
       "    }\n",
       "\n",
       "    .dataframe thead th {\n",
       "        text-align: right;\n",
       "    }\n",
       "</style>\n",
       "<table border=\"1\" class=\"dataframe\">\n",
       "  <thead>\n",
       "    <tr style=\"text-align: right;\">\n",
       "      <th></th>\n",
       "      <th>satisfaction_level</th>\n",
       "      <th>last_evaluation</th>\n",
       "      <th>number_project</th>\n",
       "      <th>average_montly_hours</th>\n",
       "      <th>time_spend_company</th>\n",
       "      <th>Work_accident</th>\n",
       "      <th>left</th>\n",
       "      <th>promotion_last_5years</th>\n",
       "      <th>Department</th>\n",
       "      <th>high</th>\n",
       "      <th>...</th>\n",
       "      <th>IT</th>\n",
       "      <th>RandD</th>\n",
       "      <th>accounting</th>\n",
       "      <th>hr</th>\n",
       "      <th>management</th>\n",
       "      <th>marketing</th>\n",
       "      <th>product_mng</th>\n",
       "      <th>sales</th>\n",
       "      <th>support</th>\n",
       "      <th>technical</th>\n",
       "    </tr>\n",
       "  </thead>\n",
       "  <tbody>\n",
       "    <tr>\n",
       "      <th>0</th>\n",
       "      <td>0.38</td>\n",
       "      <td>0.53</td>\n",
       "      <td>2</td>\n",
       "      <td>157</td>\n",
       "      <td>3</td>\n",
       "      <td>0</td>\n",
       "      <td>1</td>\n",
       "      <td>0</td>\n",
       "      <td>sales</td>\n",
       "      <td>0.0</td>\n",
       "      <td>...</td>\n",
       "      <td>0.0</td>\n",
       "      <td>0.0</td>\n",
       "      <td>0.0</td>\n",
       "      <td>0.0</td>\n",
       "      <td>0.0</td>\n",
       "      <td>0.0</td>\n",
       "      <td>0.0</td>\n",
       "      <td>1.0</td>\n",
       "      <td>0.0</td>\n",
       "      <td>0.0</td>\n",
       "    </tr>\n",
       "    <tr>\n",
       "      <th>1</th>\n",
       "      <td>0.80</td>\n",
       "      <td>0.86</td>\n",
       "      <td>5</td>\n",
       "      <td>262</td>\n",
       "      <td>6</td>\n",
       "      <td>0</td>\n",
       "      <td>1</td>\n",
       "      <td>0</td>\n",
       "      <td>sales</td>\n",
       "      <td>0.0</td>\n",
       "      <td>...</td>\n",
       "      <td>0.0</td>\n",
       "      <td>0.0</td>\n",
       "      <td>0.0</td>\n",
       "      <td>0.0</td>\n",
       "      <td>0.0</td>\n",
       "      <td>0.0</td>\n",
       "      <td>0.0</td>\n",
       "      <td>1.0</td>\n",
       "      <td>0.0</td>\n",
       "      <td>0.0</td>\n",
       "    </tr>\n",
       "    <tr>\n",
       "      <th>2</th>\n",
       "      <td>0.11</td>\n",
       "      <td>0.88</td>\n",
       "      <td>7</td>\n",
       "      <td>272</td>\n",
       "      <td>4</td>\n",
       "      <td>0</td>\n",
       "      <td>1</td>\n",
       "      <td>0</td>\n",
       "      <td>sales</td>\n",
       "      <td>0.0</td>\n",
       "      <td>...</td>\n",
       "      <td>0.0</td>\n",
       "      <td>0.0</td>\n",
       "      <td>0.0</td>\n",
       "      <td>0.0</td>\n",
       "      <td>0.0</td>\n",
       "      <td>0.0</td>\n",
       "      <td>0.0</td>\n",
       "      <td>1.0</td>\n",
       "      <td>0.0</td>\n",
       "      <td>0.0</td>\n",
       "    </tr>\n",
       "    <tr>\n",
       "      <th>3</th>\n",
       "      <td>0.72</td>\n",
       "      <td>0.87</td>\n",
       "      <td>5</td>\n",
       "      <td>223</td>\n",
       "      <td>5</td>\n",
       "      <td>0</td>\n",
       "      <td>1</td>\n",
       "      <td>0</td>\n",
       "      <td>sales</td>\n",
       "      <td>0.0</td>\n",
       "      <td>...</td>\n",
       "      <td>0.0</td>\n",
       "      <td>0.0</td>\n",
       "      <td>0.0</td>\n",
       "      <td>0.0</td>\n",
       "      <td>0.0</td>\n",
       "      <td>0.0</td>\n",
       "      <td>0.0</td>\n",
       "      <td>1.0</td>\n",
       "      <td>0.0</td>\n",
       "      <td>0.0</td>\n",
       "    </tr>\n",
       "    <tr>\n",
       "      <th>4</th>\n",
       "      <td>0.37</td>\n",
       "      <td>0.52</td>\n",
       "      <td>2</td>\n",
       "      <td>159</td>\n",
       "      <td>3</td>\n",
       "      <td>0</td>\n",
       "      <td>1</td>\n",
       "      <td>0</td>\n",
       "      <td>sales</td>\n",
       "      <td>0.0</td>\n",
       "      <td>...</td>\n",
       "      <td>0.0</td>\n",
       "      <td>0.0</td>\n",
       "      <td>0.0</td>\n",
       "      <td>0.0</td>\n",
       "      <td>0.0</td>\n",
       "      <td>0.0</td>\n",
       "      <td>0.0</td>\n",
       "      <td>1.0</td>\n",
       "      <td>0.0</td>\n",
       "      <td>0.0</td>\n",
       "    </tr>\n",
       "    <tr>\n",
       "      <th>...</th>\n",
       "      <td>...</td>\n",
       "      <td>...</td>\n",
       "      <td>...</td>\n",
       "      <td>...</td>\n",
       "      <td>...</td>\n",
       "      <td>...</td>\n",
       "      <td>...</td>\n",
       "      <td>...</td>\n",
       "      <td>...</td>\n",
       "      <td>...</td>\n",
       "      <td>...</td>\n",
       "      <td>...</td>\n",
       "      <td>...</td>\n",
       "      <td>...</td>\n",
       "      <td>...</td>\n",
       "      <td>...</td>\n",
       "      <td>...</td>\n",
       "      <td>...</td>\n",
       "      <td>...</td>\n",
       "      <td>...</td>\n",
       "      <td>...</td>\n",
       "    </tr>\n",
       "    <tr>\n",
       "      <th>14994</th>\n",
       "      <td>0.40</td>\n",
       "      <td>0.57</td>\n",
       "      <td>2</td>\n",
       "      <td>151</td>\n",
       "      <td>3</td>\n",
       "      <td>0</td>\n",
       "      <td>1</td>\n",
       "      <td>0</td>\n",
       "      <td>support</td>\n",
       "      <td>0.0</td>\n",
       "      <td>...</td>\n",
       "      <td>0.0</td>\n",
       "      <td>0.0</td>\n",
       "      <td>0.0</td>\n",
       "      <td>0.0</td>\n",
       "      <td>0.0</td>\n",
       "      <td>0.0</td>\n",
       "      <td>0.0</td>\n",
       "      <td>0.0</td>\n",
       "      <td>1.0</td>\n",
       "      <td>0.0</td>\n",
       "    </tr>\n",
       "    <tr>\n",
       "      <th>14995</th>\n",
       "      <td>0.37</td>\n",
       "      <td>0.48</td>\n",
       "      <td>2</td>\n",
       "      <td>160</td>\n",
       "      <td>3</td>\n",
       "      <td>0</td>\n",
       "      <td>1</td>\n",
       "      <td>0</td>\n",
       "      <td>support</td>\n",
       "      <td>0.0</td>\n",
       "      <td>...</td>\n",
       "      <td>0.0</td>\n",
       "      <td>0.0</td>\n",
       "      <td>0.0</td>\n",
       "      <td>0.0</td>\n",
       "      <td>0.0</td>\n",
       "      <td>0.0</td>\n",
       "      <td>0.0</td>\n",
       "      <td>0.0</td>\n",
       "      <td>1.0</td>\n",
       "      <td>0.0</td>\n",
       "    </tr>\n",
       "    <tr>\n",
       "      <th>14996</th>\n",
       "      <td>0.37</td>\n",
       "      <td>0.53</td>\n",
       "      <td>2</td>\n",
       "      <td>143</td>\n",
       "      <td>3</td>\n",
       "      <td>0</td>\n",
       "      <td>1</td>\n",
       "      <td>0</td>\n",
       "      <td>support</td>\n",
       "      <td>0.0</td>\n",
       "      <td>...</td>\n",
       "      <td>0.0</td>\n",
       "      <td>0.0</td>\n",
       "      <td>0.0</td>\n",
       "      <td>0.0</td>\n",
       "      <td>0.0</td>\n",
       "      <td>0.0</td>\n",
       "      <td>0.0</td>\n",
       "      <td>0.0</td>\n",
       "      <td>1.0</td>\n",
       "      <td>0.0</td>\n",
       "    </tr>\n",
       "    <tr>\n",
       "      <th>14997</th>\n",
       "      <td>0.11</td>\n",
       "      <td>0.96</td>\n",
       "      <td>6</td>\n",
       "      <td>280</td>\n",
       "      <td>4</td>\n",
       "      <td>0</td>\n",
       "      <td>1</td>\n",
       "      <td>0</td>\n",
       "      <td>support</td>\n",
       "      <td>0.0</td>\n",
       "      <td>...</td>\n",
       "      <td>0.0</td>\n",
       "      <td>0.0</td>\n",
       "      <td>0.0</td>\n",
       "      <td>0.0</td>\n",
       "      <td>0.0</td>\n",
       "      <td>0.0</td>\n",
       "      <td>0.0</td>\n",
       "      <td>0.0</td>\n",
       "      <td>1.0</td>\n",
       "      <td>0.0</td>\n",
       "    </tr>\n",
       "    <tr>\n",
       "      <th>14998</th>\n",
       "      <td>0.37</td>\n",
       "      <td>0.52</td>\n",
       "      <td>2</td>\n",
       "      <td>158</td>\n",
       "      <td>3</td>\n",
       "      <td>0</td>\n",
       "      <td>1</td>\n",
       "      <td>0</td>\n",
       "      <td>support</td>\n",
       "      <td>0.0</td>\n",
       "      <td>...</td>\n",
       "      <td>0.0</td>\n",
       "      <td>0.0</td>\n",
       "      <td>0.0</td>\n",
       "      <td>0.0</td>\n",
       "      <td>0.0</td>\n",
       "      <td>0.0</td>\n",
       "      <td>0.0</td>\n",
       "      <td>0.0</td>\n",
       "      <td>1.0</td>\n",
       "      <td>0.0</td>\n",
       "    </tr>\n",
       "  </tbody>\n",
       "</table>\n",
       "<p>14999 rows × 22 columns</p>\n",
       "</div>"
      ],
      "text/plain": [
       "       satisfaction_level  last_evaluation  number_project  \\\n",
       "0                    0.38             0.53               2   \n",
       "1                    0.80             0.86               5   \n",
       "2                    0.11             0.88               7   \n",
       "3                    0.72             0.87               5   \n",
       "4                    0.37             0.52               2   \n",
       "...                   ...              ...             ...   \n",
       "14994                0.40             0.57               2   \n",
       "14995                0.37             0.48               2   \n",
       "14996                0.37             0.53               2   \n",
       "14997                0.11             0.96               6   \n",
       "14998                0.37             0.52               2   \n",
       "\n",
       "       average_montly_hours  time_spend_company  Work_accident  left  \\\n",
       "0                       157                   3              0     1   \n",
       "1                       262                   6              0     1   \n",
       "2                       272                   4              0     1   \n",
       "3                       223                   5              0     1   \n",
       "4                       159                   3              0     1   \n",
       "...                     ...                 ...            ...   ...   \n",
       "14994                   151                   3              0     1   \n",
       "14995                   160                   3              0     1   \n",
       "14996                   143                   3              0     1   \n",
       "14997                   280                   4              0     1   \n",
       "14998                   158                   3              0     1   \n",
       "\n",
       "       promotion_last_5years Department  high  ...   IT  RandD  accounting  \\\n",
       "0                          0      sales   0.0  ...  0.0    0.0         0.0   \n",
       "1                          0      sales   0.0  ...  0.0    0.0         0.0   \n",
       "2                          0      sales   0.0  ...  0.0    0.0         0.0   \n",
       "3                          0      sales   0.0  ...  0.0    0.0         0.0   \n",
       "4                          0      sales   0.0  ...  0.0    0.0         0.0   \n",
       "...                      ...        ...   ...  ...  ...    ...         ...   \n",
       "14994                      0    support   0.0  ...  0.0    0.0         0.0   \n",
       "14995                      0    support   0.0  ...  0.0    0.0         0.0   \n",
       "14996                      0    support   0.0  ...  0.0    0.0         0.0   \n",
       "14997                      0    support   0.0  ...  0.0    0.0         0.0   \n",
       "14998                      0    support   0.0  ...  0.0    0.0         0.0   \n",
       "\n",
       "        hr  management  marketing  product_mng  sales  support  technical  \n",
       "0      0.0         0.0        0.0          0.0    1.0      0.0        0.0  \n",
       "1      0.0         0.0        0.0          0.0    1.0      0.0        0.0  \n",
       "2      0.0         0.0        0.0          0.0    1.0      0.0        0.0  \n",
       "3      0.0         0.0        0.0          0.0    1.0      0.0        0.0  \n",
       "4      0.0         0.0        0.0          0.0    1.0      0.0        0.0  \n",
       "...    ...         ...        ...          ...    ...      ...        ...  \n",
       "14994  0.0         0.0        0.0          0.0    0.0      1.0        0.0  \n",
       "14995  0.0         0.0        0.0          0.0    0.0      1.0        0.0  \n",
       "14996  0.0         0.0        0.0          0.0    0.0      1.0        0.0  \n",
       "14997  0.0         0.0        0.0          0.0    0.0      1.0        0.0  \n",
       "14998  0.0         0.0        0.0          0.0    0.0      1.0        0.0  \n",
       "\n",
       "[14999 rows x 22 columns]"
      ]
     },
     "execution_count": 19,
     "metadata": {},
     "output_type": "execute_result"
    }
   ],
   "source": [
    "df[ohe.categories_[0]]=transformed_dept_ohe.toarray()\n",
    "df"
   ]
  },
  {
   "cell_type": "code",
   "execution_count": 20,
   "id": "275789f6",
   "metadata": {
    "execution": {
     "iopub.execute_input": "2023-03-28T05:53:07.729326Z",
     "iopub.status.busy": "2023-03-28T05:53:07.728909Z",
     "iopub.status.idle": "2023-03-28T05:53:07.737266Z",
     "shell.execute_reply": "2023-03-28T05:53:07.736225Z"
    },
    "papermill": {
     "duration": 0.024208,
     "end_time": "2023-03-28T05:53:07.739807",
     "exception": false,
     "start_time": "2023-03-28T05:53:07.715599",
     "status": "completed"
    },
    "tags": []
   },
   "outputs": [],
   "source": [
    "df.drop(['Department'],axis=1,inplace=True)"
   ]
  },
  {
   "cell_type": "code",
   "execution_count": 21,
   "id": "99388645",
   "metadata": {
    "execution": {
     "iopub.execute_input": "2023-03-28T05:53:07.765716Z",
     "iopub.status.busy": "2023-03-28T05:53:07.764876Z",
     "iopub.status.idle": "2023-03-28T05:53:07.793173Z",
     "shell.execute_reply": "2023-03-28T05:53:07.792109Z"
    },
    "papermill": {
     "duration": 0.043846,
     "end_time": "2023-03-28T05:53:07.795558",
     "exception": false,
     "start_time": "2023-03-28T05:53:07.751712",
     "status": "completed"
    },
    "tags": []
   },
   "outputs": [
    {
     "data": {
      "text/html": [
       "<div>\n",
       "<style scoped>\n",
       "    .dataframe tbody tr th:only-of-type {\n",
       "        vertical-align: middle;\n",
       "    }\n",
       "\n",
       "    .dataframe tbody tr th {\n",
       "        vertical-align: top;\n",
       "    }\n",
       "\n",
       "    .dataframe thead th {\n",
       "        text-align: right;\n",
       "    }\n",
       "</style>\n",
       "<table border=\"1\" class=\"dataframe\">\n",
       "  <thead>\n",
       "    <tr style=\"text-align: right;\">\n",
       "      <th></th>\n",
       "      <th>satisfaction_level</th>\n",
       "      <th>last_evaluation</th>\n",
       "      <th>number_project</th>\n",
       "      <th>average_montly_hours</th>\n",
       "      <th>time_spend_company</th>\n",
       "      <th>Work_accident</th>\n",
       "      <th>left</th>\n",
       "      <th>promotion_last_5years</th>\n",
       "      <th>high</th>\n",
       "      <th>low</th>\n",
       "      <th>...</th>\n",
       "      <th>IT</th>\n",
       "      <th>RandD</th>\n",
       "      <th>accounting</th>\n",
       "      <th>hr</th>\n",
       "      <th>management</th>\n",
       "      <th>marketing</th>\n",
       "      <th>product_mng</th>\n",
       "      <th>sales</th>\n",
       "      <th>support</th>\n",
       "      <th>technical</th>\n",
       "    </tr>\n",
       "  </thead>\n",
       "  <tbody>\n",
       "    <tr>\n",
       "      <th>0</th>\n",
       "      <td>0.38</td>\n",
       "      <td>0.53</td>\n",
       "      <td>2</td>\n",
       "      <td>157</td>\n",
       "      <td>3</td>\n",
       "      <td>0</td>\n",
       "      <td>1</td>\n",
       "      <td>0</td>\n",
       "      <td>0.0</td>\n",
       "      <td>1.0</td>\n",
       "      <td>...</td>\n",
       "      <td>0.0</td>\n",
       "      <td>0.0</td>\n",
       "      <td>0.0</td>\n",
       "      <td>0.0</td>\n",
       "      <td>0.0</td>\n",
       "      <td>0.0</td>\n",
       "      <td>0.0</td>\n",
       "      <td>1.0</td>\n",
       "      <td>0.0</td>\n",
       "      <td>0.0</td>\n",
       "    </tr>\n",
       "    <tr>\n",
       "      <th>1</th>\n",
       "      <td>0.80</td>\n",
       "      <td>0.86</td>\n",
       "      <td>5</td>\n",
       "      <td>262</td>\n",
       "      <td>6</td>\n",
       "      <td>0</td>\n",
       "      <td>1</td>\n",
       "      <td>0</td>\n",
       "      <td>0.0</td>\n",
       "      <td>0.0</td>\n",
       "      <td>...</td>\n",
       "      <td>0.0</td>\n",
       "      <td>0.0</td>\n",
       "      <td>0.0</td>\n",
       "      <td>0.0</td>\n",
       "      <td>0.0</td>\n",
       "      <td>0.0</td>\n",
       "      <td>0.0</td>\n",
       "      <td>1.0</td>\n",
       "      <td>0.0</td>\n",
       "      <td>0.0</td>\n",
       "    </tr>\n",
       "    <tr>\n",
       "      <th>2</th>\n",
       "      <td>0.11</td>\n",
       "      <td>0.88</td>\n",
       "      <td>7</td>\n",
       "      <td>272</td>\n",
       "      <td>4</td>\n",
       "      <td>0</td>\n",
       "      <td>1</td>\n",
       "      <td>0</td>\n",
       "      <td>0.0</td>\n",
       "      <td>0.0</td>\n",
       "      <td>...</td>\n",
       "      <td>0.0</td>\n",
       "      <td>0.0</td>\n",
       "      <td>0.0</td>\n",
       "      <td>0.0</td>\n",
       "      <td>0.0</td>\n",
       "      <td>0.0</td>\n",
       "      <td>0.0</td>\n",
       "      <td>1.0</td>\n",
       "      <td>0.0</td>\n",
       "      <td>0.0</td>\n",
       "    </tr>\n",
       "    <tr>\n",
       "      <th>3</th>\n",
       "      <td>0.72</td>\n",
       "      <td>0.87</td>\n",
       "      <td>5</td>\n",
       "      <td>223</td>\n",
       "      <td>5</td>\n",
       "      <td>0</td>\n",
       "      <td>1</td>\n",
       "      <td>0</td>\n",
       "      <td>0.0</td>\n",
       "      <td>1.0</td>\n",
       "      <td>...</td>\n",
       "      <td>0.0</td>\n",
       "      <td>0.0</td>\n",
       "      <td>0.0</td>\n",
       "      <td>0.0</td>\n",
       "      <td>0.0</td>\n",
       "      <td>0.0</td>\n",
       "      <td>0.0</td>\n",
       "      <td>1.0</td>\n",
       "      <td>0.0</td>\n",
       "      <td>0.0</td>\n",
       "    </tr>\n",
       "    <tr>\n",
       "      <th>4</th>\n",
       "      <td>0.37</td>\n",
       "      <td>0.52</td>\n",
       "      <td>2</td>\n",
       "      <td>159</td>\n",
       "      <td>3</td>\n",
       "      <td>0</td>\n",
       "      <td>1</td>\n",
       "      <td>0</td>\n",
       "      <td>0.0</td>\n",
       "      <td>1.0</td>\n",
       "      <td>...</td>\n",
       "      <td>0.0</td>\n",
       "      <td>0.0</td>\n",
       "      <td>0.0</td>\n",
       "      <td>0.0</td>\n",
       "      <td>0.0</td>\n",
       "      <td>0.0</td>\n",
       "      <td>0.0</td>\n",
       "      <td>1.0</td>\n",
       "      <td>0.0</td>\n",
       "      <td>0.0</td>\n",
       "    </tr>\n",
       "  </tbody>\n",
       "</table>\n",
       "<p>5 rows × 21 columns</p>\n",
       "</div>"
      ],
      "text/plain": [
       "   satisfaction_level  last_evaluation  number_project  average_montly_hours  \\\n",
       "0                0.38             0.53               2                   157   \n",
       "1                0.80             0.86               5                   262   \n",
       "2                0.11             0.88               7                   272   \n",
       "3                0.72             0.87               5                   223   \n",
       "4                0.37             0.52               2                   159   \n",
       "\n",
       "   time_spend_company  Work_accident  left  promotion_last_5years  high  low  \\\n",
       "0                   3              0     1                      0   0.0  1.0   \n",
       "1                   6              0     1                      0   0.0  0.0   \n",
       "2                   4              0     1                      0   0.0  0.0   \n",
       "3                   5              0     1                      0   0.0  1.0   \n",
       "4                   3              0     1                      0   0.0  1.0   \n",
       "\n",
       "   ...   IT  RandD  accounting   hr  management  marketing  product_mng  \\\n",
       "0  ...  0.0    0.0         0.0  0.0         0.0        0.0          0.0   \n",
       "1  ...  0.0    0.0         0.0  0.0         0.0        0.0          0.0   \n",
       "2  ...  0.0    0.0         0.0  0.0         0.0        0.0          0.0   \n",
       "3  ...  0.0    0.0         0.0  0.0         0.0        0.0          0.0   \n",
       "4  ...  0.0    0.0         0.0  0.0         0.0        0.0          0.0   \n",
       "\n",
       "   sales  support  technical  \n",
       "0    1.0      0.0        0.0  \n",
       "1    1.0      0.0        0.0  \n",
       "2    1.0      0.0        0.0  \n",
       "3    1.0      0.0        0.0  \n",
       "4    1.0      0.0        0.0  \n",
       "\n",
       "[5 rows x 21 columns]"
      ]
     },
     "execution_count": 21,
     "metadata": {},
     "output_type": "execute_result"
    }
   ],
   "source": [
    "df.head()"
   ]
  },
  {
   "cell_type": "code",
   "execution_count": 22,
   "id": "ae824d81",
   "metadata": {
    "execution": {
     "iopub.execute_input": "2023-03-28T05:53:07.822189Z",
     "iopub.status.busy": "2023-03-28T05:53:07.821738Z",
     "iopub.status.idle": "2023-03-28T05:53:07.852532Z",
     "shell.execute_reply": "2023-03-28T05:53:07.851276Z"
    },
    "papermill": {
     "duration": 0.047173,
     "end_time": "2023-03-28T05:53:07.855135",
     "exception": false,
     "start_time": "2023-03-28T05:53:07.807962",
     "status": "completed"
    },
    "tags": []
   },
   "outputs": [
    {
     "data": {
      "text/html": [
       "<div>\n",
       "<style scoped>\n",
       "    .dataframe tbody tr th:only-of-type {\n",
       "        vertical-align: middle;\n",
       "    }\n",
       "\n",
       "    .dataframe tbody tr th {\n",
       "        vertical-align: top;\n",
       "    }\n",
       "\n",
       "    .dataframe thead th {\n",
       "        text-align: right;\n",
       "    }\n",
       "</style>\n",
       "<table border=\"1\" class=\"dataframe\">\n",
       "  <thead>\n",
       "    <tr style=\"text-align: right;\">\n",
       "      <th></th>\n",
       "      <th>satisfaction_level</th>\n",
       "      <th>last_evaluation</th>\n",
       "      <th>number_project</th>\n",
       "      <th>average_montly_hours</th>\n",
       "      <th>time_spend_company</th>\n",
       "      <th>Work_accident</th>\n",
       "      <th>promotion_last_5years</th>\n",
       "      <th>high</th>\n",
       "      <th>low</th>\n",
       "      <th>medium</th>\n",
       "      <th>IT</th>\n",
       "      <th>RandD</th>\n",
       "      <th>accounting</th>\n",
       "      <th>hr</th>\n",
       "      <th>management</th>\n",
       "      <th>marketing</th>\n",
       "      <th>product_mng</th>\n",
       "      <th>sales</th>\n",
       "      <th>support</th>\n",
       "      <th>technical</th>\n",
       "    </tr>\n",
       "  </thead>\n",
       "  <tbody>\n",
       "    <tr>\n",
       "      <th>0</th>\n",
       "      <td>0.38</td>\n",
       "      <td>0.53</td>\n",
       "      <td>2</td>\n",
       "      <td>157</td>\n",
       "      <td>3</td>\n",
       "      <td>0</td>\n",
       "      <td>0</td>\n",
       "      <td>0.0</td>\n",
       "      <td>1.0</td>\n",
       "      <td>0.0</td>\n",
       "      <td>0.0</td>\n",
       "      <td>0.0</td>\n",
       "      <td>0.0</td>\n",
       "      <td>0.0</td>\n",
       "      <td>0.0</td>\n",
       "      <td>0.0</td>\n",
       "      <td>0.0</td>\n",
       "      <td>1.0</td>\n",
       "      <td>0.0</td>\n",
       "      <td>0.0</td>\n",
       "    </tr>\n",
       "    <tr>\n",
       "      <th>1</th>\n",
       "      <td>0.80</td>\n",
       "      <td>0.86</td>\n",
       "      <td>5</td>\n",
       "      <td>262</td>\n",
       "      <td>6</td>\n",
       "      <td>0</td>\n",
       "      <td>0</td>\n",
       "      <td>0.0</td>\n",
       "      <td>0.0</td>\n",
       "      <td>1.0</td>\n",
       "      <td>0.0</td>\n",
       "      <td>0.0</td>\n",
       "      <td>0.0</td>\n",
       "      <td>0.0</td>\n",
       "      <td>0.0</td>\n",
       "      <td>0.0</td>\n",
       "      <td>0.0</td>\n",
       "      <td>1.0</td>\n",
       "      <td>0.0</td>\n",
       "      <td>0.0</td>\n",
       "    </tr>\n",
       "    <tr>\n",
       "      <th>2</th>\n",
       "      <td>0.11</td>\n",
       "      <td>0.88</td>\n",
       "      <td>7</td>\n",
       "      <td>272</td>\n",
       "      <td>4</td>\n",
       "      <td>0</td>\n",
       "      <td>0</td>\n",
       "      <td>0.0</td>\n",
       "      <td>0.0</td>\n",
       "      <td>1.0</td>\n",
       "      <td>0.0</td>\n",
       "      <td>0.0</td>\n",
       "      <td>0.0</td>\n",
       "      <td>0.0</td>\n",
       "      <td>0.0</td>\n",
       "      <td>0.0</td>\n",
       "      <td>0.0</td>\n",
       "      <td>1.0</td>\n",
       "      <td>0.0</td>\n",
       "      <td>0.0</td>\n",
       "    </tr>\n",
       "    <tr>\n",
       "      <th>3</th>\n",
       "      <td>0.72</td>\n",
       "      <td>0.87</td>\n",
       "      <td>5</td>\n",
       "      <td>223</td>\n",
       "      <td>5</td>\n",
       "      <td>0</td>\n",
       "      <td>0</td>\n",
       "      <td>0.0</td>\n",
       "      <td>1.0</td>\n",
       "      <td>0.0</td>\n",
       "      <td>0.0</td>\n",
       "      <td>0.0</td>\n",
       "      <td>0.0</td>\n",
       "      <td>0.0</td>\n",
       "      <td>0.0</td>\n",
       "      <td>0.0</td>\n",
       "      <td>0.0</td>\n",
       "      <td>1.0</td>\n",
       "      <td>0.0</td>\n",
       "      <td>0.0</td>\n",
       "    </tr>\n",
       "    <tr>\n",
       "      <th>4</th>\n",
       "      <td>0.37</td>\n",
       "      <td>0.52</td>\n",
       "      <td>2</td>\n",
       "      <td>159</td>\n",
       "      <td>3</td>\n",
       "      <td>0</td>\n",
       "      <td>0</td>\n",
       "      <td>0.0</td>\n",
       "      <td>1.0</td>\n",
       "      <td>0.0</td>\n",
       "      <td>0.0</td>\n",
       "      <td>0.0</td>\n",
       "      <td>0.0</td>\n",
       "      <td>0.0</td>\n",
       "      <td>0.0</td>\n",
       "      <td>0.0</td>\n",
       "      <td>0.0</td>\n",
       "      <td>1.0</td>\n",
       "      <td>0.0</td>\n",
       "      <td>0.0</td>\n",
       "    </tr>\n",
       "  </tbody>\n",
       "</table>\n",
       "</div>"
      ],
      "text/plain": [
       "   satisfaction_level  last_evaluation  number_project  average_montly_hours  \\\n",
       "0                0.38             0.53               2                   157   \n",
       "1                0.80             0.86               5                   262   \n",
       "2                0.11             0.88               7                   272   \n",
       "3                0.72             0.87               5                   223   \n",
       "4                0.37             0.52               2                   159   \n",
       "\n",
       "   time_spend_company  Work_accident  promotion_last_5years  high  low  \\\n",
       "0                   3              0                      0   0.0  1.0   \n",
       "1                   6              0                      0   0.0  0.0   \n",
       "2                   4              0                      0   0.0  0.0   \n",
       "3                   5              0                      0   0.0  1.0   \n",
       "4                   3              0                      0   0.0  1.0   \n",
       "\n",
       "   medium   IT  RandD  accounting   hr  management  marketing  product_mng  \\\n",
       "0     0.0  0.0    0.0         0.0  0.0         0.0        0.0          0.0   \n",
       "1     1.0  0.0    0.0         0.0  0.0         0.0        0.0          0.0   \n",
       "2     1.0  0.0    0.0         0.0  0.0         0.0        0.0          0.0   \n",
       "3     0.0  0.0    0.0         0.0  0.0         0.0        0.0          0.0   \n",
       "4     0.0  0.0    0.0         0.0  0.0         0.0        0.0          0.0   \n",
       "\n",
       "   sales  support  technical  \n",
       "0    1.0      0.0        0.0  \n",
       "1    1.0      0.0        0.0  \n",
       "2    1.0      0.0        0.0  \n",
       "3    1.0      0.0        0.0  \n",
       "4    1.0      0.0        0.0  "
      ]
     },
     "execution_count": 22,
     "metadata": {},
     "output_type": "execute_result"
    }
   ],
   "source": [
    "X=df.drop(['left'],axis=1)\n",
    "X.head()"
   ]
  },
  {
   "cell_type": "code",
   "execution_count": 23,
   "id": "44ded2fe",
   "metadata": {
    "execution": {
     "iopub.execute_input": "2023-03-28T05:53:07.883658Z",
     "iopub.status.busy": "2023-03-28T05:53:07.882824Z",
     "iopub.status.idle": "2023-03-28T05:53:07.899839Z",
     "shell.execute_reply": "2023-03-28T05:53:07.898706Z"
    },
    "papermill": {
     "duration": 0.034644,
     "end_time": "2023-03-28T05:53:07.902580",
     "exception": false,
     "start_time": "2023-03-28T05:53:07.867936",
     "status": "completed"
    },
    "tags": []
   },
   "outputs": [],
   "source": [
    "import sklearn\n",
    "from sklearn.preprocessing import MinMaxScaler\n",
    "mms=MinMaxScaler()\n",
    "X=mms.fit_transform(X)\n"
   ]
  },
  {
   "cell_type": "code",
   "execution_count": 24,
   "id": "e4ccca94",
   "metadata": {
    "execution": {
     "iopub.execute_input": "2023-03-28T05:53:07.930043Z",
     "iopub.status.busy": "2023-03-28T05:53:07.929636Z",
     "iopub.status.idle": "2023-03-28T05:53:08.005906Z",
     "shell.execute_reply": "2023-03-28T05:53:08.004671Z"
    },
    "papermill": {
     "duration": 0.093325,
     "end_time": "2023-03-28T05:53:08.008966",
     "exception": false,
     "start_time": "2023-03-28T05:53:07.915641",
     "status": "completed"
    },
    "tags": []
   },
   "outputs": [],
   "source": [
    "from sklearn.model_selection import train_test_split\n",
    "X_train,X_test,y_train,y_test=train_test_split(X,Y,test_size=0.3)"
   ]
  },
  {
   "cell_type": "code",
   "execution_count": 25,
   "id": "04d7bd40",
   "metadata": {
    "execution": {
     "iopub.execute_input": "2023-03-28T05:53:08.036784Z",
     "iopub.status.busy": "2023-03-28T05:53:08.035795Z",
     "iopub.status.idle": "2023-03-28T05:53:12.520580Z",
     "shell.execute_reply": "2023-03-28T05:53:12.519700Z"
    },
    "papermill": {
     "duration": 4.501581,
     "end_time": "2023-03-28T05:53:12.523193",
     "exception": false,
     "start_time": "2023-03-28T05:53:08.021612",
     "status": "completed"
    },
    "tags": []
   },
   "outputs": [
    {
     "data": {
      "text/plain": [
       "XGBClassifier(base_score=0.5, booster='gbtree', callbacks=None,\n",
       "              colsample_bylevel=1, colsample_bynode=1, colsample_bytree=1,\n",
       "              early_stopping_rounds=None, enable_categorical=False,\n",
       "              eval_metric=None, gamma=0, gpu_id=-1, grow_policy='depthwise',\n",
       "              importance_type=None, interaction_constraints='',\n",
       "              learning_rate=0.1, max_bin=256, max_cat_to_onehot=4,\n",
       "              max_delta_step=0, max_depth=5, max_leaves=0, min_child_weight=1,\n",
       "              missing=nan, monotone_constraints='()', n_estimators=500,\n",
       "              n_jobs=0, num_parallel_tree=1, objective='reg:squarederror',\n",
       "              predictor='auto', random_state=0, reg_alpha=0, ...)"
      ]
     },
     "execution_count": 25,
     "metadata": {},
     "output_type": "execute_result"
    }
   ],
   "source": [
    "import xgboost as xgb\n",
    "\n",
    "model=xgb.XGBClassifier(objective='reg:squarederror',learning_rate=0.1,max_depth=5,n_estimators=500)\n",
    "\n",
    "model.fit(X_train,y_train)\n"
   ]
  },
  {
   "cell_type": "code",
   "execution_count": 26,
   "id": "d41b484b",
   "metadata": {
    "execution": {
     "iopub.execute_input": "2023-03-28T05:53:12.551827Z",
     "iopub.status.busy": "2023-03-28T05:53:12.551149Z",
     "iopub.status.idle": "2023-03-28T05:53:12.556322Z",
     "shell.execute_reply": "2023-03-28T05:53:12.555088Z"
    },
    "papermill": {
     "duration": 0.022531,
     "end_time": "2023-03-28T05:53:12.559007",
     "exception": false,
     "start_time": "2023-03-28T05:53:12.536476",
     "status": "completed"
    },
    "tags": []
   },
   "outputs": [],
   "source": [
    "from sklearn.metrics import accuracy_score"
   ]
  },
  {
   "cell_type": "code",
   "execution_count": 27,
   "id": "7a426224",
   "metadata": {
    "execution": {
     "iopub.execute_input": "2023-03-28T05:53:12.586552Z",
     "iopub.status.busy": "2023-03-28T05:53:12.585668Z",
     "iopub.status.idle": "2023-03-28T05:53:12.614885Z",
     "shell.execute_reply": "2023-03-28T05:53:12.613611Z"
    },
    "papermill": {
     "duration": 0.046424,
     "end_time": "2023-03-28T05:53:12.618026",
     "exception": false,
     "start_time": "2023-03-28T05:53:12.571602",
     "status": "completed"
    },
    "tags": []
   },
   "outputs": [],
   "source": [
    "y_pred=model.predict(X_test)"
   ]
  },
  {
   "cell_type": "code",
   "execution_count": 28,
   "id": "760d8e06",
   "metadata": {
    "execution": {
     "iopub.execute_input": "2023-03-28T05:53:12.647598Z",
     "iopub.status.busy": "2023-03-28T05:53:12.646745Z",
     "iopub.status.idle": "2023-03-28T05:53:12.655672Z",
     "shell.execute_reply": "2023-03-28T05:53:12.654480Z"
    },
    "papermill": {
     "duration": 0.025511,
     "end_time": "2023-03-28T05:53:12.658143",
     "exception": false,
     "start_time": "2023-03-28T05:53:12.632632",
     "status": "completed"
    },
    "tags": []
   },
   "outputs": [
    {
     "data": {
      "text/plain": [
       "0.984"
      ]
     },
     "execution_count": 28,
     "metadata": {},
     "output_type": "execute_result"
    }
   ],
   "source": [
    "accuracy_score(y_test,y_pred)"
   ]
  },
  {
   "cell_type": "markdown",
   "id": "60228c75",
   "metadata": {
    "papermill": {
     "duration": 0.012779,
     "end_time": "2023-03-28T05:53:12.683739",
     "exception": false,
     "start_time": "2023-03-28T05:53:12.670960",
     "status": "completed"
    },
    "tags": []
   },
   "source": [
    " USED XGBOOST CLASSIFIER and achieved an accuracy of 98.5333%"
   ]
  },
  {
   "cell_type": "code",
   "execution_count": 29,
   "id": "04d5d495",
   "metadata": {
    "execution": {
     "iopub.execute_input": "2023-03-28T05:53:12.712769Z",
     "iopub.status.busy": "2023-03-28T05:53:12.711335Z",
     "iopub.status.idle": "2023-03-28T05:53:14.050224Z",
     "shell.execute_reply": "2023-03-28T05:53:14.048981Z"
    },
    "papermill": {
     "duration": 1.355725,
     "end_time": "2023-03-28T05:53:14.052911",
     "exception": false,
     "start_time": "2023-03-28T05:53:12.697186",
     "status": "completed"
    },
    "tags": []
   },
   "outputs": [
    {
     "name": "stderr",
     "output_type": "stream",
     "text": [
      "/opt/conda/lib/python3.7/site-packages/ipykernel_launcher.py:3: DataConversionWarning: A column-vector y was passed when a 1d array was expected. Please change the shape of y to (n_samples,), for example using ravel().\n",
      "  This is separate from the ipykernel package so we can avoid doing imports until\n"
     ]
    },
    {
     "data": {
      "text/plain": [
       "RandomForestClassifier()"
      ]
     },
     "execution_count": 29,
     "metadata": {},
     "output_type": "execute_result"
    }
   ],
   "source": [
    "from sklearn.ensemble import RandomForestClassifier\n",
    "rfc=RandomForestClassifier()\n",
    "rfc.fit(X_train,y_train)"
   ]
  },
  {
   "cell_type": "code",
   "execution_count": 30,
   "id": "a87a7695",
   "metadata": {
    "execution": {
     "iopub.execute_input": "2023-03-28T05:53:14.081908Z",
     "iopub.status.busy": "2023-03-28T05:53:14.080617Z",
     "iopub.status.idle": "2023-03-28T05:53:14.169334Z",
     "shell.execute_reply": "2023-03-28T05:53:14.167780Z"
    },
    "papermill": {
     "duration": 0.106017,
     "end_time": "2023-03-28T05:53:14.172172",
     "exception": false,
     "start_time": "2023-03-28T05:53:14.066155",
     "status": "completed"
    },
    "tags": []
   },
   "outputs": [],
   "source": [
    "y_pred=rfc.predict(X_test)"
   ]
  },
  {
   "cell_type": "code",
   "execution_count": 31,
   "id": "ef0bda03",
   "metadata": {
    "execution": {
     "iopub.execute_input": "2023-03-28T05:53:14.200612Z",
     "iopub.status.busy": "2023-03-28T05:53:14.200117Z",
     "iopub.status.idle": "2023-03-28T05:53:14.209302Z",
     "shell.execute_reply": "2023-03-28T05:53:14.207931Z"
    },
    "papermill": {
     "duration": 0.026519,
     "end_time": "2023-03-28T05:53:14.211887",
     "exception": false,
     "start_time": "2023-03-28T05:53:14.185368",
     "status": "completed"
    },
    "tags": []
   },
   "outputs": [
    {
     "data": {
      "text/plain": [
       "0.9877777777777778"
      ]
     },
     "execution_count": 31,
     "metadata": {},
     "output_type": "execute_result"
    }
   ],
   "source": [
    "accuracy_score(y_test,y_pred)"
   ]
  },
  {
   "cell_type": "markdown",
   "id": "29333ef7",
   "metadata": {
    "papermill": {
     "duration": 0.012941,
     "end_time": "2023-03-28T05:53:14.238067",
     "exception": false,
     "start_time": "2023-03-28T05:53:14.225126",
     "status": "completed"
    },
    "tags": []
   },
   "source": [
    "USED RANDOM FOREST CLASSIFIER and achieved an accuracy of 99%"
   ]
  },
  {
   "cell_type": "code",
   "execution_count": 32,
   "id": "2675aed9",
   "metadata": {
    "execution": {
     "iopub.execute_input": "2023-03-28T05:53:14.266345Z",
     "iopub.status.busy": "2023-03-28T05:53:14.265918Z",
     "iopub.status.idle": "2023-03-28T05:53:23.824171Z",
     "shell.execute_reply": "2023-03-28T05:53:23.822862Z"
    },
    "papermill": {
     "duration": 9.575865,
     "end_time": "2023-03-28T05:53:23.827169",
     "exception": false,
     "start_time": "2023-03-28T05:53:14.251304",
     "status": "completed"
    },
    "tags": []
   },
   "outputs": [],
   "source": [
    "import tensorflow as tf\n",
    "\n",
    "model=tf.keras.models.Sequential()\n",
    "model.add(tf.keras.layers.Dense(units=60, activation='relu', input_shape=X_train[0].shape))\n",
    "model.add(tf.keras.layers.Dense(units=30, activation='relu'))\n",
    "model.add(tf.keras.layers.Dense(units=10, activation='relu'))\n",
    "model.add(tf.keras.layers.Dense(units=1, activation='sigmoid'))"
   ]
  },
  {
   "cell_type": "code",
   "execution_count": 33,
   "id": "0f717cdb",
   "metadata": {
    "execution": {
     "iopub.execute_input": "2023-03-28T05:53:23.855698Z",
     "iopub.status.busy": "2023-03-28T05:53:23.855061Z",
     "iopub.status.idle": "2023-03-28T05:53:23.876563Z",
     "shell.execute_reply": "2023-03-28T05:53:23.875477Z"
    },
    "papermill": {
     "duration": 0.038954,
     "end_time": "2023-03-28T05:53:23.879408",
     "exception": false,
     "start_time": "2023-03-28T05:53:23.840454",
     "status": "completed"
    },
    "tags": []
   },
   "outputs": [],
   "source": [
    "model.compile(optimizer='adam',loss='binary_crossentropy',metrics=['accuracy'])"
   ]
  },
  {
   "cell_type": "code",
   "execution_count": 34,
   "id": "0310c7ac",
   "metadata": {
    "execution": {
     "iopub.execute_input": "2023-03-28T05:53:23.908586Z",
     "iopub.status.busy": "2023-03-28T05:53:23.908150Z",
     "iopub.status.idle": "2023-03-28T05:54:32.671469Z",
     "shell.execute_reply": "2023-03-28T05:54:32.669937Z"
    },
    "papermill": {
     "duration": 68.781183,
     "end_time": "2023-03-28T05:54:32.674722",
     "exception": false,
     "start_time": "2023-03-28T05:53:23.893539",
     "status": "completed"
    },
    "tags": []
   },
   "outputs": [
    {
     "name": "stdout",
     "output_type": "stream",
     "text": [
      "Epoch 1/100\n",
      "329/329 [==============================] - 2s 2ms/step - loss: 0.4591 - accuracy: 0.7844\n",
      "Epoch 2/100\n",
      "329/329 [==============================] - 1s 2ms/step - loss: 0.2651 - accuracy: 0.8932\n",
      "Epoch 3/100\n",
      "329/329 [==============================] - 1s 2ms/step - loss: 0.1688 - accuracy: 0.9466\n",
      "Epoch 4/100\n",
      "329/329 [==============================] - 1s 2ms/step - loss: 0.1491 - accuracy: 0.9549\n",
      "Epoch 5/100\n",
      "329/329 [==============================] - 1s 2ms/step - loss: 0.1414 - accuracy: 0.9581\n",
      "Epoch 6/100\n",
      "329/329 [==============================] - 1s 2ms/step - loss: 0.1349 - accuracy: 0.9586\n",
      "Epoch 7/100\n",
      "329/329 [==============================] - 1s 2ms/step - loss: 0.1301 - accuracy: 0.9607\n",
      "Epoch 8/100\n",
      "329/329 [==============================] - 1s 2ms/step - loss: 0.1301 - accuracy: 0.9598\n",
      "Epoch 9/100\n",
      "329/329 [==============================] - 1s 2ms/step - loss: 0.1251 - accuracy: 0.9607\n",
      "Epoch 10/100\n",
      "329/329 [==============================] - 1s 2ms/step - loss: 0.1236 - accuracy: 0.9622\n",
      "Epoch 11/100\n",
      "329/329 [==============================] - 1s 2ms/step - loss: 0.1190 - accuracy: 0.9642\n",
      "Epoch 12/100\n",
      "329/329 [==============================] - 1s 2ms/step - loss: 0.1187 - accuracy: 0.9652\n",
      "Epoch 13/100\n",
      "329/329 [==============================] - 1s 2ms/step - loss: 0.1172 - accuracy: 0.9645\n",
      "Epoch 14/100\n",
      "329/329 [==============================] - 1s 2ms/step - loss: 0.1143 - accuracy: 0.9643\n",
      "Epoch 15/100\n",
      "329/329 [==============================] - 1s 2ms/step - loss: 0.1133 - accuracy: 0.9655\n",
      "Epoch 16/100\n",
      "329/329 [==============================] - 1s 2ms/step - loss: 0.1121 - accuracy: 0.9642\n",
      "Epoch 17/100\n",
      "329/329 [==============================] - 1s 2ms/step - loss: 0.1081 - accuracy: 0.9668\n",
      "Epoch 18/100\n",
      "329/329 [==============================] - 1s 2ms/step - loss: 0.1093 - accuracy: 0.9668\n",
      "Epoch 19/100\n",
      "329/329 [==============================] - 1s 2ms/step - loss: 0.1057 - accuracy: 0.9661\n",
      "Epoch 20/100\n",
      "329/329 [==============================] - 1s 2ms/step - loss: 0.1034 - accuracy: 0.9694\n",
      "Epoch 21/100\n",
      "329/329 [==============================] - 1s 2ms/step - loss: 0.1028 - accuracy: 0.9682\n",
      "Epoch 22/100\n",
      "329/329 [==============================] - 1s 2ms/step - loss: 0.1006 - accuracy: 0.9699\n",
      "Epoch 23/100\n",
      "329/329 [==============================] - 1s 2ms/step - loss: 0.0991 - accuracy: 0.9702\n",
      "Epoch 24/100\n",
      "329/329 [==============================] - 1s 2ms/step - loss: 0.0988 - accuracy: 0.9689\n",
      "Epoch 25/100\n",
      "329/329 [==============================] - 1s 2ms/step - loss: 0.0973 - accuracy: 0.9698\n",
      "Epoch 26/100\n",
      "329/329 [==============================] - 1s 2ms/step - loss: 0.0952 - accuracy: 0.9707\n",
      "Epoch 27/100\n",
      "329/329 [==============================] - 1s 2ms/step - loss: 0.0945 - accuracy: 0.9721\n",
      "Epoch 28/100\n",
      "329/329 [==============================] - 1s 2ms/step - loss: 0.0942 - accuracy: 0.9713\n",
      "Epoch 29/100\n",
      "329/329 [==============================] - 1s 2ms/step - loss: 0.0907 - accuracy: 0.9720\n",
      "Epoch 30/100\n",
      "329/329 [==============================] - 1s 2ms/step - loss: 0.0905 - accuracy: 0.9719\n",
      "Epoch 31/100\n",
      "329/329 [==============================] - 1s 2ms/step - loss: 0.0870 - accuracy: 0.9723\n",
      "Epoch 32/100\n",
      "329/329 [==============================] - 1s 2ms/step - loss: 0.0864 - accuracy: 0.9732\n",
      "Epoch 33/100\n",
      "329/329 [==============================] - 1s 2ms/step - loss: 0.0867 - accuracy: 0.9731\n",
      "Epoch 34/100\n",
      "329/329 [==============================] - 1s 2ms/step - loss: 0.0849 - accuracy: 0.9734\n",
      "Epoch 35/100\n",
      "329/329 [==============================] - 1s 2ms/step - loss: 0.0861 - accuracy: 0.9720\n",
      "Epoch 36/100\n",
      "329/329 [==============================] - 1s 2ms/step - loss: 0.0831 - accuracy: 0.9733\n",
      "Epoch 37/100\n",
      "329/329 [==============================] - 1s 2ms/step - loss: 0.0817 - accuracy: 0.9750\n",
      "Epoch 38/100\n",
      "329/329 [==============================] - 1s 2ms/step - loss: 0.0854 - accuracy: 0.9724\n",
      "Epoch 39/100\n",
      "329/329 [==============================] - 1s 2ms/step - loss: 0.0805 - accuracy: 0.9744\n",
      "Epoch 40/100\n",
      "329/329 [==============================] - 1s 2ms/step - loss: 0.0791 - accuracy: 0.9762\n",
      "Epoch 41/100\n",
      "329/329 [==============================] - 1s 2ms/step - loss: 0.0786 - accuracy: 0.9752\n",
      "Epoch 42/100\n",
      "329/329 [==============================] - 1s 2ms/step - loss: 0.0770 - accuracy: 0.9764\n",
      "Epoch 43/100\n",
      "329/329 [==============================] - 1s 2ms/step - loss: 0.0747 - accuracy: 0.9770\n",
      "Epoch 44/100\n",
      "329/329 [==============================] - 1s 2ms/step - loss: 0.0748 - accuracy: 0.9764\n",
      "Epoch 45/100\n",
      "329/329 [==============================] - 1s 2ms/step - loss: 0.0756 - accuracy: 0.9755\n",
      "Epoch 46/100\n",
      "329/329 [==============================] - 1s 2ms/step - loss: 0.0738 - accuracy: 0.9754\n",
      "Epoch 47/100\n",
      "329/329 [==============================] - 1s 2ms/step - loss: 0.0709 - accuracy: 0.9771\n",
      "Epoch 48/100\n",
      "329/329 [==============================] - 1s 2ms/step - loss: 0.0710 - accuracy: 0.9784\n",
      "Epoch 49/100\n",
      "329/329 [==============================] - 1s 2ms/step - loss: 0.0701 - accuracy: 0.9776\n",
      "Epoch 50/100\n",
      "329/329 [==============================] - 1s 2ms/step - loss: 0.0717 - accuracy: 0.9770\n",
      "Epoch 51/100\n",
      "329/329 [==============================] - 1s 2ms/step - loss: 0.0691 - accuracy: 0.9778\n",
      "Epoch 52/100\n",
      "329/329 [==============================] - 1s 2ms/step - loss: 0.0701 - accuracy: 0.9779\n",
      "Epoch 53/100\n",
      "329/329 [==============================] - 1s 2ms/step - loss: 0.0657 - accuracy: 0.9798\n",
      "Epoch 54/100\n",
      "329/329 [==============================] - 1s 2ms/step - loss: 0.0679 - accuracy: 0.9788\n",
      "Epoch 55/100\n",
      "329/329 [==============================] - 1s 2ms/step - loss: 0.0663 - accuracy: 0.9788\n",
      "Epoch 56/100\n",
      "329/329 [==============================] - 1s 2ms/step - loss: 0.0648 - accuracy: 0.9792\n",
      "Epoch 57/100\n",
      "329/329 [==============================] - 1s 2ms/step - loss: 0.0654 - accuracy: 0.9790\n",
      "Epoch 58/100\n",
      "329/329 [==============================] - 1s 2ms/step - loss: 0.0665 - accuracy: 0.9790\n",
      "Epoch 59/100\n",
      "329/329 [==============================] - 1s 2ms/step - loss: 0.0630 - accuracy: 0.9797\n",
      "Epoch 60/100\n",
      "329/329 [==============================] - 1s 2ms/step - loss: 0.0611 - accuracy: 0.9809\n",
      "Epoch 61/100\n",
      "329/329 [==============================] - 1s 2ms/step - loss: 0.0653 - accuracy: 0.9790\n",
      "Epoch 62/100\n",
      "329/329 [==============================] - 1s 2ms/step - loss: 0.0616 - accuracy: 0.9798\n",
      "Epoch 63/100\n",
      "329/329 [==============================] - 1s 2ms/step - loss: 0.0608 - accuracy: 0.9814\n",
      "Epoch 64/100\n",
      "329/329 [==============================] - 1s 2ms/step - loss: 0.0613 - accuracy: 0.9810\n",
      "Epoch 65/100\n",
      "329/329 [==============================] - 1s 2ms/step - loss: 0.0587 - accuracy: 0.9813\n",
      "Epoch 66/100\n",
      "329/329 [==============================] - 1s 2ms/step - loss: 0.0678 - accuracy: 0.9779\n",
      "Epoch 67/100\n",
      "329/329 [==============================] - 1s 2ms/step - loss: 0.0593 - accuracy: 0.9808\n",
      "Epoch 68/100\n",
      "329/329 [==============================] - 1s 2ms/step - loss: 0.0583 - accuracy: 0.9809\n",
      "Epoch 69/100\n",
      "329/329 [==============================] - 1s 2ms/step - loss: 0.0651 - accuracy: 0.9790\n",
      "Epoch 70/100\n",
      "329/329 [==============================] - 1s 2ms/step - loss: 0.0566 - accuracy: 0.9825\n",
      "Epoch 71/100\n",
      "329/329 [==============================] - 1s 2ms/step - loss: 0.0559 - accuracy: 0.9814\n",
      "Epoch 72/100\n",
      "329/329 [==============================] - 1s 2ms/step - loss: 0.0547 - accuracy: 0.9819\n",
      "Epoch 73/100\n",
      "329/329 [==============================] - 1s 2ms/step - loss: 0.0555 - accuracy: 0.9816\n",
      "Epoch 74/100\n",
      "329/329 [==============================] - 1s 2ms/step - loss: 0.0553 - accuracy: 0.9821\n",
      "Epoch 75/100\n",
      "329/329 [==============================] - 1s 2ms/step - loss: 0.0533 - accuracy: 0.9833\n",
      "Epoch 76/100\n",
      "329/329 [==============================] - 1s 2ms/step - loss: 0.0556 - accuracy: 0.9818\n",
      "Epoch 77/100\n",
      "329/329 [==============================] - 1s 2ms/step - loss: 0.0533 - accuracy: 0.9836\n",
      "Epoch 78/100\n",
      "329/329 [==============================] - 1s 2ms/step - loss: 0.0537 - accuracy: 0.9815\n",
      "Epoch 79/100\n",
      "329/329 [==============================] - 1s 2ms/step - loss: 0.0502 - accuracy: 0.9853\n",
      "Epoch 80/100\n",
      "329/329 [==============================] - 1s 2ms/step - loss: 0.0517 - accuracy: 0.9833\n",
      "Epoch 81/100\n",
      "329/329 [==============================] - 1s 2ms/step - loss: 0.0524 - accuracy: 0.9831\n",
      "Epoch 82/100\n",
      "329/329 [==============================] - 1s 2ms/step - loss: 0.0522 - accuracy: 0.9825\n",
      "Epoch 83/100\n",
      "329/329 [==============================] - 1s 2ms/step - loss: 0.0511 - accuracy: 0.9832\n",
      "Epoch 84/100\n",
      "329/329 [==============================] - 1s 2ms/step - loss: 0.0510 - accuracy: 0.9826\n",
      "Epoch 85/100\n",
      "329/329 [==============================] - 1s 2ms/step - loss: 0.0489 - accuracy: 0.9855\n",
      "Epoch 86/100\n",
      "329/329 [==============================] - 1s 2ms/step - loss: 0.0466 - accuracy: 0.9864\n",
      "Epoch 87/100\n",
      "329/329 [==============================] - 1s 2ms/step - loss: 0.0490 - accuracy: 0.9838\n",
      "Epoch 88/100\n",
      "329/329 [==============================] - 1s 2ms/step - loss: 0.0474 - accuracy: 0.9849\n",
      "Epoch 89/100\n",
      "329/329 [==============================] - 1s 2ms/step - loss: 0.0492 - accuracy: 0.9834\n",
      "Epoch 90/100\n",
      "329/329 [==============================] - 1s 2ms/step - loss: 0.0479 - accuracy: 0.9847\n",
      "Epoch 91/100\n",
      "329/329 [==============================] - 1s 2ms/step - loss: 0.0531 - accuracy: 0.9815\n",
      "Epoch 92/100\n",
      "329/329 [==============================] - 1s 2ms/step - loss: 0.0466 - accuracy: 0.9851\n",
      "Epoch 93/100\n",
      "329/329 [==============================] - 1s 2ms/step - loss: 0.0470 - accuracy: 0.9850\n",
      "Epoch 94/100\n",
      "329/329 [==============================] - 1s 2ms/step - loss: 0.0460 - accuracy: 0.9846\n",
      "Epoch 95/100\n",
      "329/329 [==============================] - 1s 2ms/step - loss: 0.0439 - accuracy: 0.9859\n",
      "Epoch 96/100\n",
      "329/329 [==============================] - 1s 2ms/step - loss: 0.0442 - accuracy: 0.9857\n",
      "Epoch 97/100\n",
      "329/329 [==============================] - 1s 2ms/step - loss: 0.0438 - accuracy: 0.9855\n",
      "Epoch 98/100\n",
      "329/329 [==============================] - 1s 2ms/step - loss: 0.0478 - accuracy: 0.9858\n",
      "Epoch 99/100\n",
      "329/329 [==============================] - 1s 2ms/step - loss: 0.0440 - accuracy: 0.9863\n",
      "Epoch 100/100\n",
      "329/329 [==============================] - 1s 2ms/step - loss: 0.0474 - accuracy: 0.9855\n"
     ]
    },
    {
     "data": {
      "text/plain": [
       "<keras.callbacks.History at 0x7ff7001fd590>"
      ]
     },
     "execution_count": 34,
     "metadata": {},
     "output_type": "execute_result"
    }
   ],
   "source": [
    "model.fit(X_train, y_train, batch_size = 32, epochs = 100)"
   ]
  },
  {
   "cell_type": "markdown",
   "id": "378c2aef",
   "metadata": {
    "papermill": {
     "duration": 0.109699,
     "end_time": "2023-03-28T05:54:32.898352",
     "exception": false,
     "start_time": "2023-03-28T05:54:32.788653",
     "status": "completed"
    },
    "tags": []
   },
   "source": [
    "USED A ARIFICIAL NEURAL NETWORK AND ACHIEVED AN ACCURACY OF 98.47%"
   ]
  },
  {
   "cell_type": "code",
   "execution_count": null,
   "id": "7caa2c1a",
   "metadata": {
    "papermill": {
     "duration": 0.109312,
     "end_time": "2023-03-28T05:54:33.143017",
     "exception": false,
     "start_time": "2023-03-28T05:54:33.033705",
     "status": "completed"
    },
    "tags": []
   },
   "outputs": [],
   "source": []
  }
 ],
 "metadata": {
  "kernelspec": {
   "display_name": "Python 3",
   "language": "python",
   "name": "python3"
  },
  "language_info": {
   "codemirror_mode": {
    "name": "ipython",
    "version": 3
   },
   "file_extension": ".py",
   "mimetype": "text/x-python",
   "name": "python",
   "nbconvert_exporter": "python",
   "pygments_lexer": "ipython3",
   "version": "3.7.12"
  },
  "papermill": {
   "default_parameters": {},
   "duration": 101.817939,
   "end_time": "2023-03-28T05:54:35.947227",
   "environment_variables": {},
   "exception": null,
   "input_path": "__notebook__.ipynb",
   "output_path": "__notebook__.ipynb",
   "parameters": {},
   "start_time": "2023-03-28T05:52:54.129288",
   "version": "2.4.0"
  }
 },
 "nbformat": 4,
 "nbformat_minor": 5
}
